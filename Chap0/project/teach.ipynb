{
 "cells": [
  {
   "cell_type": "markdown",
   "metadata": {},
   "source": [
    "# 更快地上手编程\n",
    "\n",
    ">* 你从未接触过python，好，你问我，到底是学python2.x还是python3.x？\n",
    "\n",
    ">* 我告诉你，2.x跟3.x是同一种语言，有所区别，但是差别不大，重要的是开始学。好，等开始学了，你又问我，用哪个编辑器比较好？\n",
    "\n",
    ">* 好，我告诉你，用python自带的集成开发工具IDLE，重要的是学会，刚开始不要去整这些花里胡哨的东西，踏实的学习，一步一步走，等你学会，这些自然手到擒来。。。我个人的看法\n",
    "\n",
    "下面就是一些让你快速上手编程的概念跟例子"
   ]
  },
  {
   "cell_type": "markdown",
   "metadata": {},
   "source": [
    "## 数据类型\n",
    ">* 数字类型:用于存储数值，是不可变的数据类型\n",
    ">>* int（有符号整型）\n",
    ">>* long（长整型）\n",
    ">>* float（浮点型）\n",
    ">>* complex（复数）\n",
    ">* 字符串:String是由数字、字母、下划线组成的一串字符。\n",
    ">>* 加号(+)是字符串连接运算符，星号（*）是重复操作\n",
    ">>* 字符串格式化：\n",
    ">>* 最基本的用法是将一个值插入到有字符串格式符%s的字符串中，例如："
   ]
  },
  {
   "cell_type": "code",
   "execution_count": 20,
   "metadata": {},
   "outputs": [
    {
     "name": "stdout",
     "output_type": "stream",
     "text": [
      "My name is xiaokang and age is 21\n"
     ]
    }
   ],
   "source": [
    "print(\"My name is %s and age is %d\" % (\"xiaokang\",21))"
   ]
  },
  {
   "cell_type": "markdown",
   "metadata": {},
   "source": [
    "数字计算"
   ]
  },
  {
   "cell_type": "code",
   "execution_count": 65,
   "metadata": {},
   "outputs": [
    {
     "name": "stdout",
     "output_type": "stream",
     "text": [
      "I will now count my chickens.\n",
      "Hens 30.0\n",
      "Roosters 97.0\n",
      "Now I will count the eggs.\n",
      "6.75\n",
      "Is it true that 3 + 2 < 5 - 7?\n",
      "False\n",
      "What is 3 + 2? 5\n",
      "What is 5 - 7? -2\n",
      "Oh,that's why it's False.\n",
      "How about some more.\n",
      "Is it greater? True\n",
      "Is it greater or equal? True\n",
      "Is it less or equal? False\n",
      "3.3333333333333335 5.0\n",
      "2\n"
     ]
    }
   ],
   "source": [
    "# %load pc3.py\n",
    "\n",
    "# 输出语句\n",
    "print(\"I will now count my chickens.\")\n",
    "\n",
    "# 输出语句，计算结果，两个数整除得到浮点数，所以结果是浮点数，模除得到整数。\n",
    "print(\"Hens\",25 + 30 / 6)\n",
    "print(\"Roosters\",100.0 - 25 * 3 % 4)\n",
    "\n",
    "print(\"Now I will count the eggs.\")\n",
    "\n",
    "# 计算结果\n",
    "print(3 + 2 + 1 - 5 + 4 % 2 - 1 / 4 + 6)\n",
    "print(\"Is it true that 3 + 2 < 5 - 7?\")\n",
    "print(3 + 2 < 5 - 7)\n",
    "print(\"What is 3 + 2?\", 3 + 2)\n",
    "print(\"What is 5 - 7?\", 5 - 7)\n",
    "\n",
    "print(\"Oh,that's why it's False.\")\n",
    "print(\"How about some more.\")\n",
    "\n",
    "# true和false表示正误\n",
    "print(\"Is it greater?\", 5 > -2)\n",
    "print(\"Is it greater or equal?\", 5 >= -2)\n",
    "print(\"Is it less or equal?\", 5 <= -2)\n",
    "\n",
    "print(10/3,10/2)\n",
    "print(6%4)\n"
   ]
  },
  {
   "cell_type": "markdown",
   "metadata": {},
   "source": [
    ">* list：列表,可以完成大多数集合类的数据结构实现。它支持字符，数字，字符串，甚至可以包含列表\n",
    ">>* 常见的列表操作有：\n",
    ">>>* list.append()在列表末尾添加新对象\n",
    ">>>* list.pop()移除列表中的默认的最后一个元素，并返回该元素的值\n",
    ">>>* list.remove(obj)删除第一个匹配的元素\n",
    ">>>* list.sort()对原序列进行排序\n",
    ">>>* del(list[index])删除某个元素\n",
    ">>>* list.insert(index,obj)，list.index(object)，list.count(obj)，list.extend(seq)，list.reverse,,,这些自己动手查一下怎么用，养成自己解决问题的好习惯,好吧"
   ]
  },
  {
   "cell_type": "code",
   "execution_count": 30,
   "metadata": {},
   "outputs": [
    {
     "name": "stdout",
     "output_type": "stream",
     "text": [
      "[1, 3, 2, 'four', 5, 6, ['seven', 'eight', 9, 10]]\n",
      "[1, 3, 2, 'four', 5, 6]\n",
      "[1, 3, 2, 5, 6]\n",
      "[1, 2, 3, 5, 6]\n"
     ]
    }
   ],
   "source": [
    "# coding:utf-8\n",
    "# 实例\n",
    "a = [1,3,2,\"four\",5,6]\n",
    "b = [\"seven\",\"eight\",9,10]\n",
    "a.append(b)\n",
    "print(a)\n",
    "a.pop()\n",
    "print(a)\n",
    "a.remove(\"four\")\n",
    "print(a)\n",
    "a.sort()\n",
    "print(a)"
   ]
  },
  {
   "cell_type": "markdown",
   "metadata": {},
   "source": [
    ">* 元组；tuple\n",
    ">* 元组用\"()\"标识，类似于List(列表)，但是元组是不可变变量"
   ]
  },
  {
   "cell_type": "code",
   "execution_count": 38,
   "metadata": {},
   "outputs": [
    {
     "name": "stdout",
     "output_type": "stream",
     "text": [
      "[10, 2, 3]\n"
     ]
    },
    {
     "ename": "TypeError",
     "evalue": "'tuple' object does not support item assignment",
     "output_type": "error",
     "traceback": [
      "\u001b[1;31m---------------------------------------------------------------------------\u001b[0m",
      "\u001b[1;31mTypeError\u001b[0m                                 Traceback (most recent call last)",
      "\u001b[1;32m<ipython-input-38-1b1175455413>\u001b[0m in \u001b[0;36m<module>\u001b[1;34m()\u001b[0m\n\u001b[0;32m      4\u001b[0m \u001b[0mlist\u001b[0m\u001b[1;33m[\u001b[0m\u001b[1;36m0\u001b[0m\u001b[1;33m]\u001b[0m \u001b[1;33m=\u001b[0m \u001b[1;36m10\u001b[0m\u001b[1;33m\u001b[0m\u001b[0m\n\u001b[0;32m      5\u001b[0m \u001b[0mprint\u001b[0m\u001b[1;33m(\u001b[0m\u001b[0mlist\u001b[0m\u001b[1;33m)\u001b[0m\u001b[1;33m\u001b[0m\u001b[0m\n\u001b[1;32m----> 6\u001b[1;33m \u001b[0mtuple\u001b[0m\u001b[1;33m[\u001b[0m\u001b[1;36m0\u001b[0m\u001b[1;33m]\u001b[0m \u001b[1;33m=\u001b[0m \u001b[1;36m30\u001b[0m\u001b[1;33m\u001b[0m\u001b[0m\n\u001b[0m\u001b[0;32m      7\u001b[0m \u001b[0mprint\u001b[0m\u001b[1;33m(\u001b[0m\u001b[0mtuple\u001b[0m\u001b[1;33m)\u001b[0m\u001b[1;33m\u001b[0m\u001b[0m\n",
      "\u001b[1;31mTypeError\u001b[0m: 'tuple' object does not support item assignment"
     ]
    }
   ],
   "source": [
    "# 实例\n",
    "list = [1,2,3]\n",
    "tuple = (4,5,6)\n",
    "list[0] = 10\n",
    "print(list)\n",
    "tuple[0] = 30\n",
    "print(tuple)\n",
    "# 报错如下"
   ]
  },
  {
   "cell_type": "markdown",
   "metadata": {},
   "source": [
    ">* 字典：dictionary\n",
    ">* 字典由索引（key）和它对应的值（value）组成，字典是Python唯一的映射类型。\n",
    ">* keys()返回键列表，value()返回值列表，item()返回键值对的元组。\n",
    ">* 两个重要的点：\n",
    ">>* 字典中的键必须独一无二，但值则不必。创建时如果同一个值被赋值两次，后一个会被记住；\n",
    ">>* 键必须不可变，数字，元组，字符串都可以充当，唯独不可用列表\n",
    ">* 増改删字典：\n",
    ">>* dict[key] = value，dict1.update(dict2)，dict.pop(key)，dict.clear()，del dict,,,,这些都需要你自己去查它的用法，难不倒你吧"
   ]
  },
  {
   "cell_type": "code",
   "execution_count": 52,
   "metadata": {},
   "outputs": [
    {
     "name": "stdout",
     "output_type": "stream",
     "text": [
      "{'name': 'xx', 'age': '12'}\n",
      "{'x': 1, 'y': 1}\n",
      "{'name': 'zz', 'age': 18}\n",
      "dict_keys(['name', 'age']) dict_values(['zz', 18])\n"
     ]
    }
   ],
   "source": [
    "# 实例\n",
    "# 创建字典的两种办法\n",
    "d1 = dict((['name','xx'],['age','12']))\n",
    "print(d1)\n",
    "# 使用内建方法fromkeys()\n",
    "d2 ={}.fromkeys(('x','y'),1)\n",
    "print(d2)\n",
    "a = {'name':'zz','age':18}\n",
    "print(a)\n",
    "b = a.keys()\n",
    "c = a.values()\n",
    "print(b,c)"
   ]
  },
  {
   "cell_type": "markdown",
   "metadata": {},
   "source": [
    ">* 序列\n",
    ">* 包括：字符串，列表，元组\n",
    ">* 特征：“索引” 和 “切片”\n",
    ">* 从0开始计数\n",
    ">* 常见操作：len()求长度，+ 连接两个序列，* 重复序列元素，in 判断元素是否在序列中，还有返回最大最小值，mix(),min()\n",
    "\n",
    "下面请看实例"
   ]
  },
  {
   "cell_type": "code",
   "execution_count": 61,
   "metadata": {},
   "outputs": [
    {
     "name": "stdout",
     "output_type": "stream",
     "text": [
      "1 23\n"
     ]
    }
   ],
   "source": [
    "list = [1,2,3,]\n",
    "# 索引\n",
    "l = list[0]\n",
    "a = '123456'\n",
    "# 切片\n",
    "b = a[1:3]\n",
    "print(l,b)"
   ]
  },
  {
   "cell_type": "markdown",
   "metadata": {},
   "source": [
    "## 变量"
   ]
  },
  {
   "cell_type": "markdown",
   "metadata": {},
   "source": [
    "* 变量：变量是计算机内存中的一块区域，存储规定范围内的值，值可变，也就是给数据起个名\n",
    ">* 变量名由字母，数字，下划线组成（注：数字不能开头）\n",
    ">* 变量赋值：\n",
    ">>* python中变量赋值不需要声明，变量的赋值就是变量声明和定义的过程。\n",
    ">>* 每个变量在使用前都必须赋值，变量赋值以后才会被创建\n",
    ">* 变量分类：\n",
    ">>* 不可变变量：数字，元组，字符串（值发生变化会指向新的id）\n",
    ">>* 可变变量：列表，字典（值变，id不变）\n"
   ]
  },
  {
   "cell_type": "code",
   "execution_count": 66,
   "metadata": {},
   "outputs": [
    {
     "name": "stdout",
     "output_type": "stream",
     "text": [
      "1 2 2 5 6\n"
     ]
    }
   ],
   "source": [
    "# 实例\n",
    "a = 1\n",
    "b = c = 2\n",
    "d,e = \"5\",6\n",
    "print(a,b,c,d,e)"
   ]
  },
  {
   "cell_type": "markdown",
   "metadata": {
    "collapsed": true
   },
   "source": [
    "## 函数\n",
    "* 函数就是语句和表达式的集合，使用方式就像python中的其他值一样，例如字符串和数字。我们从函数定义来了解\n",
    "* 函数定义，关键字def用于创建自定义函数，请看下面的实例\n",
    "* 剩下的就是更多更多的练习"
   ]
  },
  {
   "cell_type": "code",
   "execution_count": 8,
   "metadata": {},
   "outputs": [
    {
     "name": "stdout",
     "output_type": "stream",
     "text": [
      "My name is xiaokang and age is 21.\n",
      "Your age is 42.\n"
     ]
    },
    {
     "data": {
      "text/plain": [
       "42"
      ]
     },
     "execution_count": 8,
     "metadata": {},
     "output_type": "execute_result"
    }
   ],
   "source": [
    "def my(name,age):\n",
    "    print(\"My name is %s and age is %d.\" %(name, age))\n",
    "my(\"xiaokang\",21)\n",
    "\n",
    "def your(age):\n",
    "    print(\"Your age is %d.\" % (age * 2))\n",
    "    return age * 2\n",
    "your(21)"
   ]
  },
  {
   "cell_type": "markdown",
   "metadata": {},
   "source": [
    "## 条件语句\n",
    "* **if,elif,else**的基本形式\n",
    "\n",
    "* if,elif,else 的下一行都需要空四个个，缩进规则，否则报错"
   ]
  },
  {
   "cell_type": "code",
   "execution_count": 10,
   "metadata": {
    "collapsed": true
   },
   "outputs": [],
   "source": [
    "# if 判断语句：     为TRUE执行语句，否则不执行\n",
    "#     执行语句\n",
    "# elif 判断语句:\n",
    "#     执行语句\n",
    "# else:\n",
    "#     执行语句"
   ]
  },
  {
   "cell_type": "code",
   "execution_count": 11,
   "metadata": {},
   "outputs": [
    {
     "name": "stdout",
     "output_type": "stream",
     "text": [
      "B\n"
     ]
    }
   ],
   "source": [
    "# 实例\n",
    "a = 3\n",
    "b = 5\n",
    "if a > b:\n",
    "    print(\"A\")\n",
    "elif a < b:\n",
    "    print(\"B\")\n",
    "else:\n",
    "    print(\"=\")"
   ]
  },
  {
   "cell_type": "markdown",
   "metadata": {},
   "source": [
    "## 循环语句\n",
    "* python有两种循环语句for和while\n",
    "一种for...in循环，依次吧list或tuple中的每个元素迭代出来，看实例:"
   ]
  },
  {
   "cell_type": "code",
   "execution_count": 12,
   "metadata": {},
   "outputs": [
    {
     "name": "stdout",
     "output_type": "stream",
     "text": [
      "Mary\n",
      "LiMing\n",
      "Bob\n",
      "210\n"
     ]
    }
   ],
   "source": [
    "names = ['Mary',\"LiMing\",'Bob']\n",
    "for name in names:\n",
    "    print(name)\n",
    "    \n",
    "# 可以运用到求和计算\n",
    "sum = 0\n",
    "for x in range(0,21):# 想了解range()的用法自己去查吧！\n",
    "    sum = sum + x\n",
    "print(sum)"
   ]
  },
  {
   "cell_type": "markdown",
   "metadata": {},
   "source": [
    "一种是while循环，只要条件满足，就不断循环，条件不足时退出循环，看例子："
   ]
  },
  {
   "cell_type": "code",
   "execution_count": 13,
   "metadata": {},
   "outputs": [
    {
     "name": "stdout",
     "output_type": "stream",
     "text": [
      "2500\n"
     ]
    }
   ],
   "source": [
    "# 可以运用到计算多少以内的奇数之和，比如100以内\n",
    "sum = 0\n",
    "n = 99\n",
    "while n > 0:\n",
    "    sum = sum + n\n",
    "    n = n - 2\n",
    "print(sum)"
   ]
  },
  {
   "cell_type": "markdown",
   "metadata": {},
   "source": [
    "结束语：好了以后看你自己了，记住：日行一练或多练，1跟0的差距积累起来有多大！"
   ]
  },
  {
   "cell_type": "code",
   "execution_count": null,
   "metadata": {
    "collapsed": true
   },
   "outputs": [],
   "source": []
  }
 ],
 "metadata": {
  "kernelspec": {
   "display_name": "Python 3",
   "language": "python",
   "name": "python3"
  },
  "language_info": {
   "codemirror_mode": {
    "name": "ipython",
    "version": 3
   },
   "file_extension": ".py",
   "mimetype": "text/x-python",
   "name": "python",
   "nbconvert_exporter": "python",
   "pygments_lexer": "ipython3",
   "version": "3.6.1"
  }
 },
 "nbformat": 4,
 "nbformat_minor": 2
}
