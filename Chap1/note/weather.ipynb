{
 "cells": [
  {
   "cell_type": "markdown",
   "metadata": {},
   "source": [
    "## 查询天气，个人教程\n",
    "\n",
    "* 刚开始说实话，没有思路，但是看到weather_info.txt文件之后，思路就慢慢浮现\n",
    "* 首先每个城市和所对应的天气都在一行，用'，'逗号分隔开，是不是可以用split分割\n",
    "* 首先你得读文件\n",
    "* 接下来马上想到字典的键值对，可以这么用\n",
    "\n",
    "```javascript\n",
    "dict = {}\n",
    "with open(filepath,'r') as dict_file:\n",
    "    for line in dict_file:\n",
    "        (key,value) = line.strip().split(',') # strip是字符串的用法，用来删除字段前后的（空格等）\n",
    "        dict[key] = value\n",
    "```"
   ]
  },
  {
   "cell_type": "markdown",
   "metadata": {},
   "source": [
    "* 接下来help()，hostory(),开始没有思路，一直想用def，这可能是我个人目前的一个毛病，但是用了只后发现根本对这个程序没有帮助，help我是这么用的\n",
    "\n",
    "```javascript\n",
    "def help():\n",
    "    print()\n",
    "    print()\n",
    "    print()\n",
    "    print()\n",
    "    return query()\n",
    "def query():\n",
    "    histories = ''\n",
    "        while True:\n",
    "        city = input()\n",
    "    \n",
    "    \n",
    "    \n",
    "        # 上面空的是history，查询历史\n",
    "        if city = 'help'\n",
    "            return help()\n",
    "```\n",
    "\n",
    "* 这样你返回了help之后，你的history会清零，因为你返回了help()之后又重新返回的query()，前面的循环不再作数，因为你重新进入的query()"
   ]
  },
  {
   "cell_type": "markdown",
   "metadata": {},
   "source": [
    "* 查询历史就是用循环了，创建好字典之后，其余的不是问题"
   ]
  },
  {
   "cell_type": "code",
   "execution_count": null,
   "metadata": {
    "collapsed": true
   },
   "outputs": [],
   "source": []
  }
 ],
 "metadata": {
  "kernelspec": {
   "display_name": "Python 3",
   "language": "python",
   "name": "python3"
  },
  "language_info": {
   "codemirror_mode": {
    "name": "ipython",
    "version": 3
   },
   "file_extension": ".py",
   "mimetype": "text/x-python",
   "name": "python",
   "nbconvert_exporter": "python",
   "pygments_lexer": "ipython3",
   "version": "3.6.1"
  }
 },
 "nbformat": 4,
 "nbformat_minor": 2
}
